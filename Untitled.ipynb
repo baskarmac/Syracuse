{
 "cells": [
  {
   "cell_type": "markdown",
   "metadata": {},
   "source": [
    "M.S. Applied Data Science\n",
    "Baskar Dakshinamoorthy\n",
    "SUID: 956658856 \n",
    "\t\n",
    "\n",
    "\n",
    "Final Portfolio Milestone \n",
    "\n",
    "\n",
    "Introduction \n"
   ]
  },
  {
   "cell_type": "code",
   "execution_count": null,
   "metadata": {},
   "outputs": [],
   "source": []
  }
 ],
 "metadata": {
  "kernelspec": {
   "display_name": "R",
   "language": "R",
   "name": "ir"
  },
  "language_info": {
   "codemirror_mode": "r",
   "file_extension": ".r",
   "mimetype": "text/x-r-source",
   "name": "R",
   "pygments_lexer": "r",
   "version": "3.5.1"
  }
 },
 "nbformat": 4,
 "nbformat_minor": 2
}
